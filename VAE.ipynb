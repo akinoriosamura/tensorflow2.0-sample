{
  "nbformat": 4,
  "nbformat_minor": 0,
  "metadata": {
    "colab": {
      "name": "VAE.ipynb",
      "version": "0.3.2",
      "provenance": [],
      "include_colab_link": true
    },
    "kernelspec": {
      "name": "python3",
      "display_name": "Python 3"
    },
    "accelerator": "TPU"
  },
  "cells": [
    {
      "cell_type": "markdown",
      "metadata": {
        "id": "view-in-github",
        "colab_type": "text"
      },
      "source": [
        "<a href=\"https://colab.research.google.com/github/akinoriosamura/tensorflow2.0-sample/blob/master/VAE.ipynb\" target=\"_parent\"><img src=\"https://colab.research.google.com/assets/colab-badge.svg\" alt=\"Open In Colab\"/></a>"
      ]
    },
    {
      "cell_type": "code",
      "metadata": {
        "id": "7hmJ4M3BfvOS",
        "colab_type": "code",
        "colab": {
          "base_uri": "https://localhost:8080/",
          "height": 85
        },
        "outputId": "689771a8-96d6-423a-c605-15490fe12db8"
      },
      "source": [
        "!nvcc --version"
      ],
      "execution_count": 1,
      "outputs": [
        {
          "output_type": "stream",
          "text": [
            "nvcc: NVIDIA (R) Cuda compiler driver\n",
            "Copyright (c) 2005-2018 NVIDIA Corporation\n",
            "Built on Sat_Aug_25_21:08:01_CDT_2018\n",
            "Cuda compilation tools, release 10.0, V10.0.130\n"
          ],
          "name": "stdout"
        }
      ]
    },
    {
      "cell_type": "code",
      "metadata": {
        "id": "JCcbQeDVf3t1",
        "colab_type": "code",
        "colab": {
          "base_uri": "https://localhost:8080/",
          "height": 513
        },
        "outputId": "00fac3ae-0b26-40f2-d568-15992c610a75"
      },
      "source": [
        "!pip install tensorflow-gpu==2.0.0-beta1"
      ],
      "execution_count": 3,
      "outputs": [
        {
          "output_type": "stream",
          "text": [
            "Collecting tensorflow-gpu==2.0.0-beta1\n",
            "\u001b[?25l  Downloading https://files.pythonhosted.org/packages/2b/53/e18c5e7a2263d3581a979645a185804782e59b8e13f42b9c3c3cfb5bb503/tensorflow_gpu-2.0.0b1-cp36-cp36m-manylinux1_x86_64.whl (348.9MB)\n",
            "\u001b[K     |████████████████████████████████| 348.9MB 59kB/s \n",
            "\u001b[?25hCollecting tb-nightly<1.14.0a20190604,>=1.14.0a20190603 (from tensorflow-gpu==2.0.0-beta1)\n",
            "\u001b[?25l  Downloading https://files.pythonhosted.org/packages/a4/96/571b875cd81dda9d5dfa1422a4f9d749e67c0a8d4f4f0b33a4e5f5f35e27/tb_nightly-1.14.0a20190603-py3-none-any.whl (3.1MB)\n",
            "\u001b[K     |████████████████████████████████| 3.1MB 34.8MB/s \n",
            "\u001b[?25hRequirement already satisfied: termcolor>=1.1.0 in /usr/local/lib/python3.6/dist-packages (from tensorflow-gpu==2.0.0-beta1) (1.1.0)\n",
            "Requirement already satisfied: keras-preprocessing>=1.0.5 in /usr/local/lib/python3.6/dist-packages (from tensorflow-gpu==2.0.0-beta1) (1.1.0)\n",
            "Requirement already satisfied: absl-py>=0.7.0 in /usr/local/lib/python3.6/dist-packages (from tensorflow-gpu==2.0.0-beta1) (0.7.1)\n",
            "Requirement already satisfied: numpy<2.0,>=1.14.5 in /usr/local/lib/python3.6/dist-packages (from tensorflow-gpu==2.0.0-beta1) (1.16.4)\n",
            "Requirement already satisfied: protobuf>=3.6.1 in /usr/local/lib/python3.6/dist-packages (from tensorflow-gpu==2.0.0-beta1) (3.7.1)\n",
            "Requirement already satisfied: gast>=0.2.0 in /usr/local/lib/python3.6/dist-packages (from tensorflow-gpu==2.0.0-beta1) (0.2.2)\n",
            "Requirement already satisfied: wrapt>=1.11.1 in /usr/local/lib/python3.6/dist-packages (from tensorflow-gpu==2.0.0-beta1) (1.11.1)\n",
            "Collecting tf-estimator-nightly<1.14.0.dev2019060502,>=1.14.0.dev2019060501 (from tensorflow-gpu==2.0.0-beta1)\n",
            "\u001b[?25l  Downloading https://files.pythonhosted.org/packages/32/dd/99c47dd007dcf10d63fd895611b063732646f23059c618a373e85019eb0e/tf_estimator_nightly-1.14.0.dev2019060501-py2.py3-none-any.whl (496kB)\n",
            "\u001b[K     |████████████████████████████████| 501kB 45.3MB/s \n",
            "\u001b[?25hRequirement already satisfied: six>=1.10.0 in /usr/local/lib/python3.6/dist-packages (from tensorflow-gpu==2.0.0-beta1) (1.12.0)\n",
            "Requirement already satisfied: wheel>=0.26 in /usr/local/lib/python3.6/dist-packages (from tensorflow-gpu==2.0.0-beta1) (0.33.4)\n",
            "Requirement already satisfied: keras-applications>=1.0.6 in /usr/local/lib/python3.6/dist-packages (from tensorflow-gpu==2.0.0-beta1) (1.0.8)\n",
            "Requirement already satisfied: grpcio>=1.8.6 in /usr/local/lib/python3.6/dist-packages (from tensorflow-gpu==2.0.0-beta1) (1.15.0)\n",
            "Requirement already satisfied: google-pasta>=0.1.6 in /usr/local/lib/python3.6/dist-packages (from tensorflow-gpu==2.0.0-beta1) (0.1.7)\n",
            "Requirement already satisfied: astor>=0.6.0 in /usr/local/lib/python3.6/dist-packages (from tensorflow-gpu==2.0.0-beta1) (0.8.0)\n",
            "Requirement already satisfied: setuptools>=41.0.0 in /usr/local/lib/python3.6/dist-packages (from tb-nightly<1.14.0a20190604,>=1.14.0a20190603->tensorflow-gpu==2.0.0-beta1) (41.0.1)\n",
            "Requirement already satisfied: markdown>=2.6.8 in /usr/local/lib/python3.6/dist-packages (from tb-nightly<1.14.0a20190604,>=1.14.0a20190603->tensorflow-gpu==2.0.0-beta1) (3.1.1)\n",
            "Requirement already satisfied: werkzeug>=0.11.15 in /usr/local/lib/python3.6/dist-packages (from tb-nightly<1.14.0a20190604,>=1.14.0a20190603->tensorflow-gpu==2.0.0-beta1) (0.15.4)\n",
            "Requirement already satisfied: h5py in /usr/local/lib/python3.6/dist-packages (from keras-applications>=1.0.6->tensorflow-gpu==2.0.0-beta1) (2.8.0)\n",
            "Installing collected packages: tb-nightly, tf-estimator-nightly, tensorflow-gpu\n",
            "Successfully installed tb-nightly-1.14.0a20190603 tensorflow-gpu-2.0.0b1 tf-estimator-nightly-1.14.0.dev2019060501\n"
          ],
          "name": "stdout"
        }
      ]
    },
    {
      "cell_type": "code",
      "metadata": {
        "id": "Fd0oWESa1GAa",
        "colab_type": "code",
        "colab": {}
      },
      "source": [
        "import numpy as np\n",
        "import tensorflow as tf\n",
        "from sklearn.utils import shuffle\n",
        "\n",
        "class DataLoader(object):\n",
        "  def __init__(self, dataset, batch_size=100, shuffle=False, random_state=None):\n",
        "    self.dataset = list(zip(dataset[0], dataset[1]))\n",
        "    self.batch_size = batch_size\n",
        "    self.shuffle = shuffle\n",
        "    if random_state is None:\n",
        "      random_state = np.random.RandomState(1234)\n",
        "    self.random_state = random_state\n",
        "    self._idx = 0\n",
        "    self._reset()\n",
        "    \n",
        "  def __len__(self):\n",
        "    N = len(self.dataset)\n",
        "    b = batch_size\n",
        "    \n",
        "    return N // b + bool(N % b)\n",
        "  \n",
        "  def __iter__(self):\n",
        "    return self\n",
        "  \n",
        "  def __next__(self):\n",
        "    if self._idx >= len(self.dataset):\n",
        "      self._reset()\n",
        "      raise StopIteration()\n",
        "    x, y = zip(*self.dataset[self._idx: (self._idx + self.batch_size)])\n",
        "    \n",
        "    x = tf.convert_to_tensor(x)\n",
        "    y = tf.convert_to_tensor(y)\n",
        "    \n",
        "    self._idx += self.batch_size\n",
        "    \n",
        "    return x, y \n",
        "  \n",
        "  def _reset(self):\n",
        "    if self.shuffle:\n",
        "      self.dataset = shuffle(self.dataset, random_state=self.random_state)\n",
        "      \n",
        "    self._idx = 0"
      ],
      "execution_count": 0,
      "outputs": []
    },
    {
      "cell_type": "code",
      "metadata": {
        "id": "ZzUpB6Czf6-z",
        "colab_type": "code",
        "colab": {}
      },
      "source": [
        "import os\n",
        "import numpy as np\n",
        "import tensorflow as tf\n",
        "from tensorflow.keras import datasets\n",
        "from tensorflow.keras.models import Model\n",
        "from tensorflow.keras.layers import Dense\n",
        "from tensorflow.keras import optimizers\n",
        "from tensorflow.keras import metrics\n",
        "import matplotlib\n",
        "# matplotlib.use('Agg')\n",
        "import matplotlib.pyplot as plt\n",
        "\n",
        "\n",
        "class VAE(Model):\n",
        "  def __init__(self):\n",
        "    super().__init__()\n",
        "    self.encoder = Encoder()\n",
        "    self.decoder = Decoder()\n",
        "    \n",
        "  def call(self, x):\n",
        "    mean, var = self.encoder(x)\n",
        "    z = self.reparameterize(mean, var)\n",
        "    y = self.decoder(z)\n",
        "    \n",
        "    return y\n",
        "  \n",
        "  def reparameterize(self, mean, var):\n",
        "    eps = tf.random.normal(mean.shape)\n",
        "    z = mean + tf.math.sqrt(var) * var\n",
        "    return z\n",
        "  \n",
        "  def lower_bound(self, x):\n",
        "    mean, var = self.encoder(x)\n",
        "    kl = -1/2 * tf.reduce_mean(\n",
        "        tf.reduce_sum(1 + self._log(var, max=var) - mean**2 - var, axis=1)\n",
        "    )\n",
        "    z = self.reparameterize(mean, var)\n",
        "    y = self.decoder(z)\n",
        "    \n",
        "    reconst = tf.reduce_mean(tf.reduce_sum(x * self._log(y) + (1 - x) * self._log(1 - y), axis=1))\n",
        "    \n",
        "    L = reconst - kl\n",
        "    \n",
        "    return L\n",
        "    \n",
        "    \n",
        "  def _log(self, value, min=1.e-10, max=1.0):\n",
        "    return tf.math.log(tf.clip_by_value(value, min, max))\n",
        "  \n",
        "\n",
        "class Encoder(Model):\n",
        "  def __init__(self):\n",
        "    super().__init__()\n",
        "    self.l1 = Dense(200, activation='relu')\n",
        "    self.l2 = Dense(200, activation='relu')\n",
        "    self.l_mean = Dense(10, activation='linear')\n",
        "    self.l_var = Dense(10, activation=tf.nn.softplus)\n",
        "\n",
        "  def call(self, x):\n",
        "    h = self.l1(x)\n",
        "    h = self.l2(h)\n",
        "\n",
        "    mean = self.l_mean(h)\n",
        "    var = self.l_var(h)\n",
        "\n",
        "    return mean, var\n",
        "\n",
        "\n",
        "class Decoder(Model):\n",
        "  def __init__(self):\n",
        "    super().__init__()\n",
        "    self.l1 = Dense(200, activation='relu')\n",
        "    self.l2 = Dense(200, activation='relu')\n",
        "    self.out = Dense(784, activation='sigmoid')\n",
        "\n",
        "  def call(self, x):\n",
        "    h = self.l1(x)\n",
        "    h = self.l2(h)\n",
        "    y = self.out(h)\n",
        "\n",
        "    return y"
      ],
      "execution_count": 0,
      "outputs": []
    },
    {
      "cell_type": "code",
      "metadata": {
        "id": "mwF11MuF1IAf",
        "colab_type": "code",
        "colab": {
          "base_uri": "https://localhost:8080/",
          "height": 611
        },
        "outputId": "ff698dc4-919c-4f8e-e646-a135bb4f08f3"
      },
      "source": [
        "if __name__ == '__main__':\n",
        "  np.random.seed(1234)\n",
        "  tf.random.set_seed(1234)\n",
        "  \n",
        "  \"\"\"\n",
        "  1, Load data\n",
        "  \"\"\"\n",
        "  mnist = datasets.fashion_mnist\n",
        "  (x_train, y_train), (x_test, y_test) = mnist.load_data()\n",
        "  x_train = (x_train.reshape(-1, 784) / 255).astype(np.float32)\n",
        "  \n",
        "  train_dataloader = DataLoader((x_train, y_train), batch_size=100, shuffle=True)\n",
        "  \n",
        "  \n",
        "  \"\"\"\n",
        "  2, build model\n",
        "  \"\"\"\n",
        "  model = VAE()\n",
        "  \n",
        "  \n",
        "  \"\"\"\n",
        "  3, train model\n",
        "  \"\"\"\n",
        "  criterion = model.lower_bound\n",
        "  optimizer = optimizers.Adam()\n",
        "  \n",
        "  @tf.function\n",
        "  def compute_loss(x):\n",
        "    return -1 * criterion(x)\n",
        "  \n",
        "  @tf.function\n",
        "  def train_step(x):\n",
        "    with tf.GradientTape() as tape:\n",
        "      loss = compute_loss(x)\n",
        "      \n",
        "    grads = tape.gradient(loss, model.trainable_variables)\n",
        "    optimizer.apply_gradients(zip(grads, model.trainable_variables))\n",
        "    train_loss(loss)\n",
        "    \n",
        "  train_loss = metrics.Mean()\n",
        "  epochs = 10\n",
        "  \n",
        "  for epoch in range(epochs):\n",
        "    for (x, _) in train_dataloader:\n",
        "      train_step(x)\n",
        "      \n",
        "    print('Epoch: {}, Cost: {:.3f}'.format(\n",
        "        epoch+1,\n",
        "        train_loss.result()\n",
        "    ))\n",
        "  \n",
        "  \"\"\"\n",
        "  4, test model\n",
        "  \"\"\"\n",
        "  def gen_noise(batch_size):\n",
        "    return tf.random.normal([batch_size, 10])\n",
        "  \n",
        "  def generate(batch_size=16):\n",
        "    z = gen_noise(batch_size)\n",
        "    gen = model.decoder(z)\n",
        "    gen = tf.reshape(gen, [-1, 28, 28])\n",
        "    \n",
        "    return gen\n",
        "    \n",
        "  images = generate(batch_size=16)\n",
        "  images = images.numpy()\n",
        "  plt.figure(figsize=(6, 6))\n",
        "  for i, image in enumerate(images):\n",
        "      plt.subplot(4, 4, i+1)\n",
        "      plt.imshow(image, cmap='binary_r')\n",
        "      plt.axis('off')\n",
        "  plt.tight_layout()\n",
        "  plt.show()"
      ],
      "execution_count": 35,
      "outputs": [
        {
          "output_type": "stream",
          "text": [
            "Epoch: 1, Cost: 261.664\n",
            "Epoch: 2, Cost: 247.840\n",
            "Epoch: 3, Cost: 241.855\n",
            "Epoch: 4, Cost: 238.308\n",
            "Epoch: 5, Cost: 235.882\n",
            "Epoch: 6, Cost: 234.076\n",
            "Epoch: 7, Cost: 232.659\n",
            "Epoch: 8, Cost: 231.510\n",
            "Epoch: 9, Cost: 230.558\n",
            "Epoch: 10, Cost: 229.744\n"
          ],
          "name": "stdout"
        },
        {
          "output_type": "display_data",
          "data": {
            "image/png": "[encoded data removed]",
            "text/plain": [
              "<Figure size 432x432 with 16 Axes>"
            ]
          },
          "metadata": {
            "tags": []
          }
        }
      ]
    },
    {
      "cell_type": "code",
      "metadata": {
        "id": "KyVH2e0DCxXg",
        "colab_type": "code",
        "colab": {}
      },
      "source": [
        ""
      ],
      "execution_count": 0,
      "outputs": []
    }
  ]
}