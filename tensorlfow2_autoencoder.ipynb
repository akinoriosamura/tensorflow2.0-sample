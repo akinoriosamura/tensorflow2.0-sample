{
  "nbformat": 4,
  "nbformat_minor": 0,
  "metadata": {
    "colab": {
      "name": "tensorlfow2_autoencoder.ipynb",
      "version": "0.3.2",
      "provenance": [],
      "include_colab_link": true
    },
    "kernelspec": {
      "name": "python3",
      "display_name": "Python 3"
    },
    "accelerator": "GPU"
  },
  "cells": [
    {
      "cell_type": "markdown",
      "metadata": {
        "id": "view-in-github",
        "colab_type": "text"
      },
      "source": [
        "<a href=\"https://colab.research.google.com/github/akinoriosamura/tensorflow2.0-sample/blob/master/tensorlfow2_autoencoder.ipynb\" target=\"_parent\"><img src=\"https://colab.research.google.com/assets/colab-badge.svg\" alt=\"Open In Colab\"/></a>"
      ]
    },
    {
      "cell_type": "code",
      "metadata": {
        "id": "h09o8siEyeEP",
        "colab_type": "code",
        "colab": {}
      },
      "source": [
        "!nvcc --version"
      ],
      "execution_count": 0,
      "outputs": []
    },
    {
      "cell_type": "code",
      "metadata": {
        "id": "L85A0dIsy-_A",
        "colab_type": "code",
        "outputId": "3348bd5a-3167-4164-dd26-27e03b1d4191",
        "colab": {
          "base_uri": "https://localhost:8080/",
          "height": 34
        }
      },
      "source": [
        "!pip install --upgrade pip"
      ],
      "execution_count": 0,
      "outputs": [
        {
          "output_type": "stream",
          "text": [
            "Requirement already up-to-date: pip in /usr/local/lib/python3.6/dist-packages (19.1.1)\n"
          ],
          "name": "stdout"
        }
      ]
    },
    {
      "cell_type": "code",
      "metadata": {
        "id": "TiXbZ0hpOV85",
        "colab_type": "code",
        "outputId": "9bc20fe6-e32a-4556-e28f-7f7184a9475e",
        "colab": {
          "base_uri": "https://localhost:8080/",
          "height": 513
        }
      },
      "source": [
        "!pip install tensorflow-gpu==2.0.0-beta1"
      ],
      "execution_count": 0,
      "outputs": [
        {
          "output_type": "stream",
          "text": [
            "Collecting tensorflow-gpu==2.0.0-beta1\n",
            "\u001b[?25l  Downloading https://files.pythonhosted.org/packages/2b/53/e18c5e7a2263d3581a979645a185804782e59b8e13f42b9c3c3cfb5bb503/tensorflow_gpu-2.0.0b1-cp36-cp36m-manylinux1_x86_64.whl (348.9MB)\n",
            "\u001b[K     |████████████████████████████████| 348.9MB 52kB/s \n",
            "\u001b[?25hCollecting tf-estimator-nightly<1.14.0.dev2019060502,>=1.14.0.dev2019060501 (from tensorflow-gpu==2.0.0-beta1)\n",
            "\u001b[?25l  Downloading https://files.pythonhosted.org/packages/32/dd/99c47dd007dcf10d63fd895611b063732646f23059c618a373e85019eb0e/tf_estimator_nightly-1.14.0.dev2019060501-py2.py3-none-any.whl (496kB)\n",
            "\u001b[K     |████████████████████████████████| 501kB 38.9MB/s \n",
            "\u001b[?25hRequirement already satisfied: gast>=0.2.0 in /usr/local/lib/python3.6/dist-packages (from tensorflow-gpu==2.0.0-beta1) (0.2.2)\n",
            "Requirement already satisfied: numpy<2.0,>=1.14.5 in /usr/local/lib/python3.6/dist-packages (from tensorflow-gpu==2.0.0-beta1) (1.16.4)\n",
            "Requirement already satisfied: keras-applications>=1.0.6 in /usr/local/lib/python3.6/dist-packages (from tensorflow-gpu==2.0.0-beta1) (1.0.8)\n",
            "Requirement already satisfied: keras-preprocessing>=1.0.5 in /usr/local/lib/python3.6/dist-packages (from tensorflow-gpu==2.0.0-beta1) (1.1.0)\n",
            "Requirement already satisfied: astor>=0.6.0 in /usr/local/lib/python3.6/dist-packages (from tensorflow-gpu==2.0.0-beta1) (0.8.0)\n",
            "Requirement already satisfied: six>=1.10.0 in /usr/local/lib/python3.6/dist-packages (from tensorflow-gpu==2.0.0-beta1) (1.12.0)\n",
            "Requirement already satisfied: grpcio>=1.8.6 in /usr/local/lib/python3.6/dist-packages (from tensorflow-gpu==2.0.0-beta1) (1.15.0)\n",
            "Requirement already satisfied: protobuf>=3.6.1 in /usr/local/lib/python3.6/dist-packages (from tensorflow-gpu==2.0.0-beta1) (3.7.1)\n",
            "Collecting tb-nightly<1.14.0a20190604,>=1.14.0a20190603 (from tensorflow-gpu==2.0.0-beta1)\n",
            "\u001b[?25l  Downloading https://files.pythonhosted.org/packages/a4/96/571b875cd81dda9d5dfa1422a4f9d749e67c0a8d4f4f0b33a4e5f5f35e27/tb_nightly-1.14.0a20190603-py3-none-any.whl (3.1MB)\n",
            "\u001b[K     |████████████████████████████████| 3.1MB 39.8MB/s \n",
            "\u001b[?25hRequirement already satisfied: termcolor>=1.1.0 in /usr/local/lib/python3.6/dist-packages (from tensorflow-gpu==2.0.0-beta1) (1.1.0)\n",
            "Requirement already satisfied: wheel>=0.26 in /usr/local/lib/python3.6/dist-packages (from tensorflow-gpu==2.0.0-beta1) (0.33.4)\n",
            "Requirement already satisfied: google-pasta>=0.1.6 in /usr/local/lib/python3.6/dist-packages (from tensorflow-gpu==2.0.0-beta1) (0.1.7)\n",
            "Requirement already satisfied: absl-py>=0.7.0 in /usr/local/lib/python3.6/dist-packages (from tensorflow-gpu==2.0.0-beta1) (0.7.1)\n",
            "Requirement already satisfied: wrapt>=1.11.1 in /usr/local/lib/python3.6/dist-packages (from tensorflow-gpu==2.0.0-beta1) (1.11.1)\n",
            "Requirement already satisfied: h5py in /usr/local/lib/python3.6/dist-packages (from keras-applications>=1.0.6->tensorflow-gpu==2.0.0-beta1) (2.8.0)\n",
            "Requirement already satisfied: setuptools in /usr/local/lib/python3.6/dist-packages (from protobuf>=3.6.1->tensorflow-gpu==2.0.0-beta1) (41.0.1)\n",
            "Requirement already satisfied: markdown>=2.6.8 in /usr/local/lib/python3.6/dist-packages (from tb-nightly<1.14.0a20190604,>=1.14.0a20190603->tensorflow-gpu==2.0.0-beta1) (3.1.1)\n",
            "Requirement already satisfied: werkzeug>=0.11.15 in /usr/local/lib/python3.6/dist-packages (from tb-nightly<1.14.0a20190604,>=1.14.0a20190603->tensorflow-gpu==2.0.0-beta1) (0.15.4)\n",
            "Installing collected packages: tf-estimator-nightly, tb-nightly, tensorflow-gpu\n",
            "Successfully installed tb-nightly-1.14.0a20190603 tensorflow-gpu-2.0.0b1 tf-estimator-nightly-1.14.0.dev2019060501\n"
          ],
          "name": "stdout"
        }
      ]
    },
    {
      "cell_type": "code",
      "metadata": {
        "id": "vjdFF8EpPFjl",
        "colab_type": "code",
        "outputId": "022791bd-fac7-4fd7-b200-f1209cc4be71",
        "colab": {
          "base_uri": "https://localhost:8080/",
          "height": 34
        }
      },
      "source": [
        "import tensorflow as tf\n",
        "tf.__version__"
      ],
      "execution_count": 0,
      "outputs": [
        {
          "output_type": "execute_result",
          "data": {
            "text/plain": [
              "'2.0.0-beta1'"
            ]
          },
          "metadata": {
            "tags": []
          },
          "execution_count": 4
        }
      ]
    },
    {
      "cell_type": "code",
      "metadata": {
        "id": "wXymt9uHOs76",
        "colab_type": "code",
        "colab": {}
      },
      "source": [
        "import numpy as  np\n",
        "import tensorflow as tf\n",
        "from sklearn.utils import shuffle\n",
        "\n",
        "class DataLoader(object):\n",
        "  def __init__(self, dataset, batch_size=100, shuffle=False, random_state=None):\n",
        "    self.dataset = list(zip(dataset[0], dataset[1]))\n",
        "    self.batch_size = batch_size\n",
        "    self.shuffle = shuffle\n",
        "    if random_state is None:\n",
        "      random_state = np.random.RandomState(1234)\n",
        "    self.random_state = random_state\n",
        "    self._idx = 0\n",
        "    self._reset()\n",
        "    \n",
        "  def __len__(self):\n",
        "    N = len(self.dataset)\n",
        "    b = self.batch_size\n",
        "    \n",
        "    return N // b + bool(N % b) # num of iter in one epoch\n",
        "  \n",
        "  def __iter__(self):\n",
        "    return self\n",
        "    \n",
        "  def __next__(self):\n",
        "    if self._idx >= len(self.dataset):\n",
        "      self._reset()\n",
        "      raise StopIteration()\n",
        "    x, y = zip(*self.dataset[self._idx:(self._idx + self.batch_size)])\n",
        "    \n",
        "    x = tf.convert_to_tensor(x)\n",
        "    y = tf.convert_to_tensor(y)\n",
        "    \n",
        "    self._idx += self.batch_size\n",
        "    \n",
        "    return x, y\n",
        "  \n",
        "  def _reset(self):\n",
        "    if self.shuffle:\n",
        "      self.dataset = shuffle(self.dataset, random_state=self.random_state)\n",
        "    \n",
        "    self._idx = 0"
      ],
      "execution_count": 0,
      "outputs": []
    },
    {
      "cell_type": "code",
      "metadata": {
        "id": "rWskbgSKP6pl",
        "colab_type": "code",
        "outputId": "15c0d157-95ff-45a0-9349-473531260b71",
        "colab": {
          "base_uri": "https://localhost:8080/",
          "height": 533
        }
      },
      "source": [
        "import os\n",
        "import numpy as np\n",
        "import tensorflow as tf\n",
        "from tensorflow.keras import datasets\n",
        "from tensorflow.keras.models import Model\n",
        "from tensorflow.keras.layers import Dense\n",
        "from tensorflow.keras import optimizers\n",
        "from tensorflow.keras import metrics\n",
        "# import DataLoader\n",
        "import matplotlib\n",
        "# matplotlib.use('Agg')\n",
        "import matplotlib.pyplot as plt\n",
        "\n",
        "class Autoencoder(Model):\n",
        "  def __init__(self):\n",
        "    super().__init__()\n",
        "    self.l1 = Dense(200, activation='relu')\n",
        "    self.l2 = Dense(784, activation='sigmoid')\n",
        "    \n",
        "  def call(self, x):\n",
        "    # encode\n",
        "    h = self.l1(x)\n",
        "    \n",
        "    # decode\n",
        "    y = self.l2(h)\n",
        "    \n",
        "    return y\n",
        "  \n",
        "if __name__ == '__main__':\n",
        "  np.random.seed(1234)\n",
        "  tf.random.set_seed(1234)\n",
        "  \"\"\"\n",
        "  1, load data\n",
        "  \"\"\"\n",
        "  mnist = datasets.fashion_mnist\n",
        "  (x_train, y_train), (x_test, y_test) = mnist.load_data()\n",
        "  # ２次元[28 * 28] データを -> 一次元[784]に\n",
        "  x_train = (x_train.reshape(-1, 784) / 255).astype(np.float32)\n",
        "  x_test = (x_test.reshape(-1, 784) / 255).astype(np.float32)\n",
        "  \n",
        "  train_dataloader = DataLoader((x_train, y_train), batch_size=100, shuffle=True)\n",
        "  test_dataloader = DataLoader((x_test, y_test), batch_size=1, shuffle=False)\n",
        "  \n",
        "  \"\"\"\n",
        "  2, build model\n",
        "  \"\"\"\n",
        "  model = Autoencoder()\n",
        "  \n",
        "  \"\"\"\n",
        "  3, train model\n",
        "  \"\"\"\n",
        "  criterion = tf.losses.BinaryCrossentropy()\n",
        "  optimizer = optimizers.Adam()\n",
        "  \n",
        "  @tf.function\n",
        "  def compute_loss(x, preds):\n",
        "    return criterion(x, preds)\n",
        "  \n",
        "  @tf.function\n",
        "  def train_step(x):\n",
        "    with tf.GradientTape() as tape:\n",
        "      preds = model(x)\n",
        "      loss = compute_loss(x, preds)\n",
        "    grads = tape.gradient(loss, model.trainable_variables)\n",
        "    optimizer.apply_gradients(zip(grads, model.trainable_variables))\n",
        "    train_loss(loss)\n",
        "  \n",
        "  train_loss = metrics.Mean()\n",
        "  epochs = 10\n",
        "  \n",
        "  for epoch in range(epochs):\n",
        "    # autoencoderなので入力=正解\n",
        "    # __iter__, __next__はforで自動で呼ばれる\n",
        "    for (x, _) in train_dataloader:\n",
        "      train_step(x)\n",
        "      \n",
        "    print('Epoch: {}, Cost: {:.3f}'.format(epoch+1, train_loss.result()))\n",
        "    \n",
        "  \"\"\"\n",
        "  4, test model\n",
        "  \"\"\"\n",
        "  x, _ = next(iter(test_dataloader))\n",
        "  noise = tf.convert_to_tensor(\n",
        "      np.random.binomial(1, 0.8, size=(x.numpy().shape)).astype(np.float32)\n",
        "  )\n",
        "  x_noise = x * noise\n",
        "  \n",
        "  x_reconstructed = model(x_noise)\n",
        "  \n",
        "  plt.figure(figsize=(18, 6))\n",
        "  for i, image in enumerate([x, x_noise, x_reconstructed]):\n",
        "    image = image.numpy().reshape(28, 28)\n",
        "    plt.subplot(1, 3, i+1)\n",
        "    plt.imshow(image, cmap='binary_r')\n",
        "    plt.axis('off')\n",
        "  plt.show()"
      ],
      "execution_count": 42,
      "outputs": [
        {
          "output_type": "stream",
          "text": [
            "Epoch: 1, Cost: 0.323\n",
            "Epoch: 2, Cost: 0.300\n",
            "Epoch: 3, Cost: 0.289\n",
            "Epoch: 4, Cost: 0.283\n",
            "Epoch: 5, Cost: 0.279\n",
            "Epoch: 6, Cost: 0.276\n",
            "Epoch: 7, Cost: 0.274\n",
            "Epoch: 8, Cost: 0.272\n",
            "Epoch: 9, Cost: 0.271\n",
            "Epoch: 10, Cost: 0.269\n"
          ],
          "name": "stdout"
        },
        {
          "output_type": "display_data",
          "data": {
            "image/png": "[encoded data removed]",
            "text/plain": [
              "<Figure size 1296x432 with 3 Axes>"
            ]
          },
          "metadata": {
            "tags": []
          }
        }
      ]
    },
    {
      "cell_type": "code",
      "metadata": {
        "id": "yDWWZlMifbcw",
        "colab_type": "code",
        "colab": {
          "base_uri": "https://localhost:8080/",
          "height": 496
        },
        "outputId": "509eda46-ee8c-4e13-939c-ce14110e796d"
      },
      "source": [
        "from tensorflow.python.client import device_lib\n",
        "device_lib.list_local_devices()"
      ],
      "execution_count": 43,
      "outputs": [
        {
          "output_type": "execute_result",
          "data": {
            "text/plain": [
              "[name: \"/device:CPU:0\"\n",
              " device_type: \"CPU\"\n",
              " memory_limit: 268435456\n",
              " locality {\n",
              " }\n",
              " incarnation: 17659835274180462239, name: \"/device:XLA_GPU:0\"\n",
              " device_type: \"XLA_GPU\"\n",
              " memory_limit: 17179869184\n",
              " locality {\n",
              " }\n",
              " incarnation: 1687149217264305993\n",
              " physical_device_desc: \"device: XLA_GPU device\", name: \"/device:XLA_CPU:0\"\n",
              " device_type: \"XLA_CPU\"\n",
              " memory_limit: 17179869184\n",
              " locality {\n",
              " }\n",
              " incarnation: 9471533234796251306\n",
              " physical_device_desc: \"device: XLA_CPU device\", name: \"/device:GPU:0\"\n",
              " device_type: \"GPU\"\n",
              " memory_limit: 11326753997\n",
              " locality {\n",
              "   bus_id: 1\n",
              "   links {\n",
              "   }\n",
              " }\n",
              " incarnation: 7206234264524473291\n",
              " physical_device_desc: \"device: 0, name: Tesla K80, pci bus id: 0000:00:04.0, compute capability: 3.7\"]"
            ]
          },
          "metadata": {
            "tags": []
          },
          "execution_count": 43
        }
      ]
    },
    {
      "cell_type": "code",
      "metadata": {
        "id": "OZ-jFmxofb06",
        "colab_type": "code",
        "colab": {}
      },
      "source": [
        ""
      ],
      "execution_count": 0,
      "outputs": []
    }
  ]
}